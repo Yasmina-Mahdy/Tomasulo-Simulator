{
 "cells": [
  {
   "cell_type": "code",
   "execution_count": 4,
   "id": "724c678a-f825-4948-b97a-e1bbbfe759c1",
   "metadata": {},
   "outputs": [],
   "source": [
    "data = []\n",
    "with open('mem.txt', 'r') as file:\n",
    "    for line in file:\n",
    "        data.append(line.strip())  # .strip() removes leading/trailing whitespace\n"
   ]
  },
  {
   "cell_type": "code",
   "execution_count": 6,
   "id": "4ff3a80a-aea7-49c3-8c50-30f1198617b4",
   "metadata": {},
   "outputs": [
    {
     "data": {
      "text/plain": [
       "['16 45', '20 15', '100 30', '1000 300']"
      ]
     },
     "execution_count": 6,
     "metadata": {},
     "output_type": "execute_result"
    }
   ],
   "source": [
    "data"
   ]
  },
  {
   "cell_type": "code",
   "execution_count": 8,
   "id": "ef151c20-be51-43c1-ba71-3488d96728e5",
   "metadata": {},
   "outputs": [],
   "source": [
    "parsed_data = [ist.split(' ') for ist in data ]"
   ]
  },
  {
   "cell_type": "code",
   "execution_count": 12,
   "id": "8d5a9708-8d0e-4ea9-a7ad-764e4372821f",
   "metadata": {},
   "outputs": [
    {
     "data": {
      "text/plain": [
       "'16'"
      ]
     },
     "execution_count": 12,
     "metadata": {},
     "output_type": "execute_result"
    }
   ],
   "source": [
    "parsed_data[0][0]"
   ]
  },
  {
   "cell_type": "code",
   "execution_count": 46,
   "id": "6a2b09cd-159e-4ead-b131-207715822074",
   "metadata": {},
   "outputs": [
    {
     "data": {
      "text/plain": [
       "'rB'"
      ]
     },
     "execution_count": 46,
     "metadata": {},
     "output_type": "execute_result"
    }
   ],
   "source": []
  },
  {
   "cell_type": "code",
   "execution_count": null,
   "id": "97330acb-4f6f-4c07-ae44-b88dc0867534",
   "metadata": {},
   "outputs": [],
   "source": [
    "def instructions(inst):\n",
    "    inst = {\n",
    "        'op': inst[0],\n",
    "        'rd': 'R1' if inst[0] == 'RET' | 'CALL' else inst[1],\n",
    "        'rs': inst[4] if inst[0] == 'LOAD' | 'STORE' else inst[1] if inst[0] == 'BEQ' else inst[2],\n",
    "        'rt': inst[],\n",
    "        'imm':\n",
    "        }"
   ]
  }
 ],
 "metadata": {
  "kernelspec": {
   "display_name": "Python 3 (ipykernel)",
   "language": "python",
   "name": "python3"
  },
  "language_info": {
   "codemirror_mode": {
    "name": "ipython",
    "version": 3
   },
   "file_extension": ".py",
   "mimetype": "text/x-python",
   "name": "python",
   "nbconvert_exporter": "python",
   "pygments_lexer": "ipython3",
   "version": "3.12.4"
  }
 },
 "nbformat": 4,
 "nbformat_minor": 5
}
